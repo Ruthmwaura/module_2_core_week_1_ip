{
  "nbformat": 4,
  "nbformat_minor": 0,
  "metadata": {
    "colab": {
      "name": "Game prediction(Mchezopesa) ",
      "provenance": [],
      "authorship_tag": "ABX9TyMkgMKocShLf5Mj6TTaxf3y",
      "include_colab_link": true
    },
    "kernelspec": {
      "name": "python3",
      "display_name": "Python 3"
    },
    "language_info": {
      "name": "python"
    }
  },
  "cells": [
    {
      "cell_type": "markdown",
      "metadata": {
        "id": "view-in-github",
        "colab_type": "text"
      },
      "source": [
        "<a href=\"https://colab.research.google.com/github/Ruthmwaura/module_2_core_week_1_ip/blob/main/Game_prediction(Mchezopesa).ipynb\" target=\"_parent\"><img src=\"https://colab.research.google.com/assets/colab-badge.svg\" alt=\"Open In Colab\"/></a>"
      ]
    },
    {
      "cell_type": "markdown",
      "source": [
        "#GAME RESULT PREDICTION\n",
        "**Defining the question**\n",
        "\n",
        "a) Specifying the Data Analytic Question\n",
        "\n",
        "b) Defining the Metric for Success\n",
        "\n",
        "c) Understanding the context\n",
        "\n",
        "d) Recording the Experimental Design\n",
        "\n",
        "e)Data appropriateness "
      ],
      "metadata": {
        "id": "jsRzQEjri6z9"
      }
    },
    {
      "cell_type": "code",
      "source": [
        "##importing libraries"
      ],
      "metadata": {
        "id": "Xsyt_X2tnGh4"
      },
      "execution_count": null,
      "outputs": []
    },
    {
      "cell_type": "code",
      "execution_count": null,
      "metadata": {
        "id": "sphmmcDLiwBt"
      },
      "outputs": [],
      "source": [
        "##loading data"
      ]
    },
    {
      "cell_type": "code",
      "source": [
        "##understanding data"
      ],
      "metadata": {
        "id": "0TdPxAaIjCBB"
      },
      "execution_count": null,
      "outputs": []
    },
    {
      "cell_type": "code",
      "source": [
        "##preparing data"
      ],
      "metadata": {
        "id": "7lo0IMr7jG8V"
      },
      "execution_count": null,
      "outputs": []
    },
    {
      "cell_type": "code",
      "source": [
        "##EDA Analysis"
      ],
      "metadata": {
        "id": "jRdTteAsjOHk"
      },
      "execution_count": null,
      "outputs": []
    },
    {
      "cell_type": "code",
      "source": [
        "##polynomial regression"
      ],
      "metadata": {
        "id": "t1b7ACdTjUXi"
      },
      "execution_count": null,
      "outputs": []
    },
    {
      "cell_type": "code",
      "source": [
        ""
      ],
      "metadata": {
        "id": "FLMqVgGbl6vT"
      },
      "execution_count": null,
      "outputs": []
    },
    {
      "cell_type": "code",
      "source": [
        "##logistic regression"
      ],
      "metadata": {
        "id": "7jyBReflj6EL"
      },
      "execution_count": null,
      "outputs": []
    }
  ]
}